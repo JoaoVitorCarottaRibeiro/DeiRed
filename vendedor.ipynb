{
 "cells": [
  {
   "cell_type": "code",
   "execution_count": null,
   "metadata": {},
   "outputs": [],
   "source": [
    "class Vendedor():\n",
    "    def __init__(self, nome):\n",
    "        self.nome = nome\n",
    "        self.vendas = 0\n",
    "\n",
    "    def vendeu(self, vendas):\n",
    "        self.vendas = vendas\n",
    "    \n",
    "    def meta(self, meta):\n",
    "        if self.vendas > meta:\n",
    "            print(f\"{self.nome} bateu a meta de vendas\")\n",
    "        else: \n",
    "            print(f\"{self.nome} não bateu a meta de vendas\")"
   ]
  },
  {
   "cell_type": "code",
   "execution_count": 2,
   "metadata": {},
   "outputs": [
    {
     "name": "stdout",
     "output_type": "stream",
     "text": [
      "João bateu a meta de vendas\n",
      "Mariano não bateu a meta de vendas\n"
     ]
    }
   ],
   "source": [
    "vendedor1 = Vendedor(\"João\")\n",
    "vendedor2 = Vendedor(\"Mariano\")\n",
    "\n",
    "vendedor1.vendeu(1000)\n",
    "vendedor1.meta(500)\n",
    "\n",
    "vendedor2.vendeu(500)\n",
    "vendedor2.meta(1000)"
   ]
  },
  {
   "cell_type": "code",
   "execution_count": null,
   "metadata": {},
   "outputs": [],
   "source": []
  }
 ],
 "metadata": {
  "kernelspec": {
   "display_name": "base",
   "language": "python",
   "name": "python3"
  },
  "language_info": {
   "codemirror_mode": {
    "name": "ipython",
    "version": 3
   },
   "file_extension": ".py",
   "mimetype": "text/x-python",
   "name": "python",
   "nbconvert_exporter": "python",
   "pygments_lexer": "ipython3",
   "version": "3.11.5"
  }
 },
 "nbformat": 4,
 "nbformat_minor": 2
}
